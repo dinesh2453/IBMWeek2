{
 "cells": [
  {
   "cell_type": "markdown",
   "id": "dda1eeff-0f4b-430a-845f-746cbb9b48f6",
   "metadata": {},
   "source": [
    "<h1>Data Science Tools and Ecosystem</h1>"
   ]
  },
  {
   "cell_type": "markdown",
   "id": "6578dd4f-5b3f-4f7c-ad4a-54accdf45053",
   "metadata": {},
   "source": [
    "In this notebook, Data Science Tools and Ecosystem are summarized."
   ]
  },
  {
   "cell_type": "markdown",
   "id": "2f2207ae-e585-426f-bb72-39b8d65cc1d5",
   "metadata": {},
   "source": [
    "<strong> Objectives: </strong>\n",
    "<ul>\n",
    "    <li> List popular languages for Data Science </li>\n",
    "    <li> List popular libraries for Data Science </li>\n",
    "    <li> List popular tools for Data Science </li>\n",
    "</ul>"
   ]
  },
  {
   "cell_type": "markdown",
   "id": "db16f87a-6ea3-4c50-afab-79bee9539f91",
   "metadata": {},
   "source": [
    "Some of the popular languages that Data Scientists use are:\n",
    "<ol>\n",
    "    <li> Python </li>\n",
    "    <li> R </li>\n",
    "    <li> Scala </li>\n",
    "    <li> Julia </li>\n",
    "</ol>"
   ]
  },
  {
   "cell_type": "markdown",
   "id": "83ae15c2-e6f9-45da-bb56-4b20b3ee7e90",
   "metadata": {},
   "source": [
    "Some of the commonly used libraries used by Data Scientists include:\n",
    "\n",
    "<ol>\n",
    "    <li> Pandas </li>\n",
    "    <li> NumPy </li>\n",
    "    <li> SciPy </li>\n",
    "</ol>"
   ]
  },
  {
   "cell_type": "markdown",
   "id": "4b99a66e-a2f0-4dbf-a0c4-d6ebd8172580",
   "metadata": {},
   "source": [
    "<table>\n",
    "    <tr>\n",
    "    <th> Data Science Tools </th>\n",
    "    </tr>\n",
    "    <tr><td> Spyder </td></tr>\n",
    "    <tr><td> tool2 </td></tr>\n",
    "    <tr><td> tool2 </td></tr>\n",
    "</table>"
   ]
  },
  {
   "cell_type": "markdown",
   "id": "7daa42d7-d64f-4a8f-a1cc-1b67db2b3b28",
   "metadata": {},
   "source": [
    "<h3> Below are a few examples of evaluating arithmetic expressions in Python </h3>"
   ]
  },
  {
   "cell_type": "code",
   "execution_count": 2,
   "id": "49219809-57aa-481e-a0c1-89620eab37d1",
   "metadata": {},
   "outputs": [
    {
     "data": {
      "text/plain": [
       "17"
      ]
     },
     "execution_count": 2,
     "metadata": {},
     "output_type": "execute_result"
    }
   ],
   "source": [
    "# This is a simple arithmetic expression to multiply then add integers\n",
    "(3*4)+5"
   ]
  },
  {
   "cell_type": "code",
   "execution_count": 3,
   "id": "93ab0315-b1bd-4ce6-a7ec-059deae1c859",
   "metadata": {},
   "outputs": [
    {
     "name": "stdout",
     "output_type": "stream",
     "text": [
      "3.3333333333333335\n"
     ]
    }
   ],
   "source": [
    "# This will convert 200 minutes to hours by divinding by 60\n",
    "minutes = 200\n",
    "hours = minutes/60\n",
    "print(hours)"
   ]
  },
  {
   "cell_type": "markdown",
   "id": "ee72a92c-6fbc-4144-8bee-82d97635a777",
   "metadata": {},
   "source": [
    "<h2> Author </h2>\n",
    "Jammula Dinesh Reddy"
   ]
  }
 ],
 "metadata": {
  "kernelspec": {
   "display_name": "Python",
   "language": "python",
   "name": "conda-env-python-py"
  },
  "language_info": {
   "codemirror_mode": {
    "name": "ipython",
    "version": 3
   },
   "file_extension": ".py",
   "mimetype": "text/x-python",
   "name": "python",
   "nbconvert_exporter": "python",
   "pygments_lexer": "ipython3",
   "version": "3.7.12"
  }
 },
 "nbformat": 4,
 "nbformat_minor": 5
}
